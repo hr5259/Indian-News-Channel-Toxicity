{
 "cells": [
  {
   "cell_type": "code",
   "execution_count": 1,
   "id": "4befbb49",
   "metadata": {},
   "outputs": [],
   "source": [
    "import scrapetube\n",
    "import pandas as pd"
   ]
  },
  {
   "cell_type": "code",
   "execution_count": 4,
   "id": "3b3490f8",
   "metadata": {},
   "outputs": [],
   "source": [
    "english_partial_titles = [\"Left Right & Centre\", \"The Big Fight\", \"Newshour Debate\", \"Newstrack\", \"Arnab Debates\", \"The Debate With Arnab\", \"Viewpoint With Bhupendra Chaubey\", \"Urban Debate\"]"
   ]
  },
  {
   "cell_type": "code",
   "execution_count": 3,
   "id": "f3229f2d",
   "metadata": {},
   "outputs": [],
   "source": [
    "column_names = ['video_id','partial_title']\n",
    "english_videos_df = pd.DataFrame(columns = column_names)"
   ]
  },
  {
   "cell_type": "code",
   "execution_count": 5,
   "id": "63bbedad",
   "metadata": {},
   "outputs": [
    {
     "data": {
      "text/html": [
       "<div>\n",
       "<style scoped>\n",
       "    .dataframe tbody tr th:only-of-type {\n",
       "        vertical-align: middle;\n",
       "    }\n",
       "\n",
       "    .dataframe tbody tr th {\n",
       "        vertical-align: top;\n",
       "    }\n",
       "\n",
       "    .dataframe thead th {\n",
       "        text-align: right;\n",
       "    }\n",
       "</style>\n",
       "<table border=\"1\" class=\"dataframe\">\n",
       "  <thead>\n",
       "    <tr style=\"text-align: right;\">\n",
       "      <th></th>\n",
       "      <th>video_id</th>\n",
       "      <th>partial_title</th>\n",
       "    </tr>\n",
       "  </thead>\n",
       "  <tbody>\n",
       "    <tr>\n",
       "      <th>0</th>\n",
       "      <td>at-T2PJQgOg</td>\n",
       "      <td>Left Right &amp; Centre</td>\n",
       "    </tr>\n",
       "    <tr>\n",
       "      <th>1</th>\n",
       "      <td>a7GITgqwDVg</td>\n",
       "      <td>Left Right &amp; Centre</td>\n",
       "    </tr>\n",
       "    <tr>\n",
       "      <th>2</th>\n",
       "      <td>ney291VKSJM</td>\n",
       "      <td>Left Right &amp; Centre</td>\n",
       "    </tr>\n",
       "    <tr>\n",
       "      <th>3</th>\n",
       "      <td>WGhcYYzEmxc</td>\n",
       "      <td>Left Right &amp; Centre</td>\n",
       "    </tr>\n",
       "    <tr>\n",
       "      <th>4</th>\n",
       "      <td>2R_p9EHZKXs</td>\n",
       "      <td>Left Right &amp; Centre</td>\n",
       "    </tr>\n",
       "  </tbody>\n",
       "</table>\n",
       "</div>"
      ],
      "text/plain": [
       "      video_id        partial_title\n",
       "0  at-T2PJQgOg  Left Right & Centre\n",
       "1  a7GITgqwDVg  Left Right & Centre\n",
       "2  ney291VKSJM  Left Right & Centre\n",
       "3  WGhcYYzEmxc  Left Right & Centre\n",
       "4  2R_p9EHZKXs  Left Right & Centre"
      ]
     },
     "execution_count": 5,
     "metadata": {},
     "output_type": "execute_result"
    }
   ],
   "source": [
    "for title in english_partial_titles:\n",
    "    videos = scrapetube.get_search(query = title,limit = 300)\n",
    "    # Extract video ids and create a DataFrame\n",
    "    video_ids = [video['videoId'] for video in videos]\n",
    "    partial_df = pd.DataFrame({'video_id': video_ids, 'partial_title': title})\n",
    "\n",
    "    # Append the current DataFrame to the main DataFrame\n",
    "    english_videos_df = pd.concat([english_videos_df, partial_df], ignore_index=True)\n",
    "english_videos_df.head()"
   ]
  },
  {
   "cell_type": "code",
   "execution_count": 7,
   "id": "c9aa1fbb",
   "metadata": {},
   "outputs": [
    {
     "name": "stdout",
     "output_type": "stream",
     "text": [
      "         video_id        partial_title\n",
      "0     at-T2PJQgOg  Left Right & Centre\n",
      "1     a7GITgqwDVg  Left Right & Centre\n",
      "2     ney291VKSJM  Left Right & Centre\n",
      "3     WGhcYYzEmxc  Left Right & Centre\n",
      "4     2R_p9EHZKXs  Left Right & Centre\n",
      "...           ...                  ...\n",
      "2395  LSv5daQs2Oo         Urban Debate\n",
      "2396  sSxejrqUkY0         Urban Debate\n",
      "2397  IZQQWqdmklQ         Urban Debate\n",
      "2398  IX03mWUoXY8         Urban Debate\n",
      "2399  EQD_6F7EMQY         Urban Debate\n",
      "\n",
      "[2400 rows x 2 columns]\n"
     ]
    }
   ],
   "source": [
    "print(english_videos_df)"
   ]
  },
  {
   "cell_type": "code",
   "execution_count": 12,
   "id": "e7a875fe",
   "metadata": {},
   "outputs": [],
   "source": [
    "import os\n",
    "import googleapiclient.discovery\n",
    "\n",
    "# Set your YouTube API key as an environment variable\n",
    "os.environ[\"YOUTUBE_API_KEY\"] = \"API KEY\" #Enter your api key here\n",
    "\n",
    "# List of channel names to check\n",
    "channels_to_check = [\"MIRROR NOW\", \"CNN-News18\", \"India Today\", \"TIMES NOW\", \"Republic World\" ,\"NDTV\"]  # Add your channel names here\n",
    "\n",
    "# Initialize the YouTube Data API client\n",
    "youtube = googleapiclient.discovery.build(\"youtube\", \"v3\", developerKey=os.environ[\"YOUTUBE_API_KEY\"])"
   ]
  },
  {
   "cell_type": "code",
   "execution_count": 13,
   "id": "4681d43c",
   "metadata": {},
   "outputs": [
    {
     "name": "stdout",
     "output_type": "stream",
     "text": [
      "          VideoId     Channel             ShowName\n",
      "0     Lxx28NJMhV4        NDTV  Left Right & Centre\n",
      "1     G21_Qu9cHmM        NDTV  Left Right & Centre\n",
      "2     Rc-kwHE2ZGo        NDTV        The Big Fight\n",
      "3     PRF7yRsBG48        NDTV        The Big Fight\n",
      "4     sJDYgQBezdc        NDTV        The Big Fight\n",
      "...           ...         ...                  ...\n",
      "1419  CWIk7CfgN0Y  MIRROR NOW         Urban Debate\n",
      "1420  cXFMgqcfjYo  MIRROR NOW         Urban Debate\n",
      "1421  TdtXFbM8o7s  MIRROR NOW         Urban Debate\n",
      "1422  d-cSXtVYOK0  MIRROR NOW         Urban Debate\n",
      "1423  sSxejrqUkY0  MIRROR NOW         Urban Debate\n",
      "\n",
      "[1424 rows x 3 columns]\n"
     ]
    }
   ],
   "source": [
    "data = []\n",
    "\n",
    "# Iterate through each row in the DataFrame\n",
    "for index, row in english_videos_df.iterrows():\n",
    "    video_id = row[\"video_id\"]\n",
    "    show_name = row[\"partial_title\"]\n",
    "\n",
    "    # Use the YouTube Data API to get video details\n",
    "    video_response = youtube.videos().list(part=\"snippet\", id=video_id).execute()\n",
    "\n",
    "    # Extract the channelId from the video details\n",
    "    channel_id = video_response[\"items\"][0][\"snippet\"][\"channelId\"]\n",
    "\n",
    "    # Use the YouTube Data API to get channel details\n",
    "    channel_response = youtube.channels().list(part=\"snippet\", id=channel_id).execute()\n",
    "    \n",
    "    if \"items\" in channel_response:\n",
    "        # Extract the channel title (name)\n",
    "        channel_name = channel_response[\"items\"][0][\"snippet\"][\"title\"]\n",
    "\n",
    "        # Check if the channel name is in the list of channels to check\n",
    "        if channel_name in channels_to_check:\n",
    "            # Append data to the list\n",
    "            data.append({\"VideoId\": video_id, \"Channel\": channel_name, \"ShowName\": show_name})\n",
    "\n",
    "# Create a new DataFrame from the list of data\n",
    "result_df = pd.DataFrame(data)\n",
    "\n",
    "# Print or save the resulting DataFrame\n",
    "print(result_df)\n"
   ]
  },
  {
   "cell_type": "code",
   "execution_count": 14,
   "id": "2853a5f6",
   "metadata": {},
   "outputs": [
    {
     "data": {
      "text/html": [
       "<div>\n",
       "<style scoped>\n",
       "    .dataframe tbody tr th:only-of-type {\n",
       "        vertical-align: middle;\n",
       "    }\n",
       "\n",
       "    .dataframe tbody tr th {\n",
       "        vertical-align: top;\n",
       "    }\n",
       "\n",
       "    .dataframe thead th {\n",
       "        text-align: right;\n",
       "    }\n",
       "</style>\n",
       "<table border=\"1\" class=\"dataframe\">\n",
       "  <thead>\n",
       "    <tr style=\"text-align: right;\">\n",
       "      <th></th>\n",
       "      <th>VideoId</th>\n",
       "      <th>Channel</th>\n",
       "      <th>ShowName</th>\n",
       "    </tr>\n",
       "  </thead>\n",
       "  <tbody>\n",
       "    <tr>\n",
       "      <th>0</th>\n",
       "      <td>Lxx28NJMhV4</td>\n",
       "      <td>NDTV</td>\n",
       "      <td>Left Right &amp; Centre</td>\n",
       "    </tr>\n",
       "    <tr>\n",
       "      <th>1</th>\n",
       "      <td>G21_Qu9cHmM</td>\n",
       "      <td>NDTV</td>\n",
       "      <td>Left Right &amp; Centre</td>\n",
       "    </tr>\n",
       "    <tr>\n",
       "      <th>2</th>\n",
       "      <td>Rc-kwHE2ZGo</td>\n",
       "      <td>NDTV</td>\n",
       "      <td>The Big Fight</td>\n",
       "    </tr>\n",
       "    <tr>\n",
       "      <th>3</th>\n",
       "      <td>PRF7yRsBG48</td>\n",
       "      <td>NDTV</td>\n",
       "      <td>The Big Fight</td>\n",
       "    </tr>\n",
       "    <tr>\n",
       "      <th>4</th>\n",
       "      <td>sJDYgQBezdc</td>\n",
       "      <td>NDTV</td>\n",
       "      <td>The Big Fight</td>\n",
       "    </tr>\n",
       "  </tbody>\n",
       "</table>\n",
       "</div>"
      ],
      "text/plain": [
       "       VideoId Channel             ShowName\n",
       "0  Lxx28NJMhV4    NDTV  Left Right & Centre\n",
       "1  G21_Qu9cHmM    NDTV  Left Right & Centre\n",
       "2  Rc-kwHE2ZGo    NDTV        The Big Fight\n",
       "3  PRF7yRsBG48    NDTV        The Big Fight\n",
       "4  sJDYgQBezdc    NDTV        The Big Fight"
      ]
     },
     "execution_count": 14,
     "metadata": {},
     "output_type": "execute_result"
    }
   ],
   "source": [
    "result_df.head()"
   ]
  },
  {
   "cell_type": "code",
   "execution_count": 15,
   "id": "782a8feb",
   "metadata": {},
   "outputs": [],
   "source": [
    "result_df.to_excel(\"English_channels_videos.xlsx\", index=False)"
   ]
  },
  {
   "cell_type": "code",
   "execution_count": null,
   "id": "3ccc692a",
   "metadata": {},
   "outputs": [],
   "source": []
  }
 ],
 "metadata": {
  "kernelspec": {
   "display_name": "Python 3 (ipykernel)",
   "language": "python",
   "name": "python3"
  },
  "language_info": {
   "codemirror_mode": {
    "name": "ipython",
    "version": 3
   },
   "file_extension": ".py",
   "mimetype": "text/x-python",
   "name": "python",
   "nbconvert_exporter": "python",
   "pygments_lexer": "ipython3",
   "version": "3.9.13"
  }
 },
 "nbformat": 4,
 "nbformat_minor": 5
}
