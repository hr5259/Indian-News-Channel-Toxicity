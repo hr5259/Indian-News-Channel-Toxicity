{
 "cells": [
  {
   "cell_type": "code",
   "execution_count": null,
   "id": "3a9f17fa-7534-43cf-af65-9906c42fabfd",
   "metadata": {
    "tags": []
   },
   "outputs": [],
   "source": [
    "#pip install scrapetube"
   ]
  },
  {
   "cell_type": "code",
   "execution_count": null,
   "id": "b3a02ca0-5211-45a9-a0b3-5a403c10d154",
   "metadata": {
    "tags": []
   },
   "outputs": [],
   "source": [
    "import scrapetube\n",
    "import pandas as pd"
   ]
  },
  {
   "cell_type": "code",
   "execution_count": null,
   "id": "bec2bb0c-9599-43dd-a281-8b23c8b9fb10",
   "metadata": {
    "tags": []
   },
   "outputs": [],
   "source": [
    "import os\n",
    "import googleapiclient.discovery\n",
    "\n",
    "# Set your YouTube API key as an environment variable\n",
    "os.environ[\"YOUTUBE_API_KEY\"] = \"Your API Key\"\n",
    "\n",
    "# Initialize the YouTube Data API client\n",
    "youtube = googleapiclient.discovery.build(\"youtube\", \"v3\", developerKey=os.environ[\"YOUTUBE_API_KEY\"])\n"
   ]
  },
  {
   "cell_type": "code",
   "execution_count": null,
   "id": "8b76c2e6-2e9f-4eee-942f-4c1b7c3a5423",
   "metadata": {
    "tags": []
   },
   "outputs": [],
   "source": [
    "videos = pd.read_excel(\"English_channels_videos.xlsx\")\n",
    "videos.head()"
   ]
  },
  {
   "cell_type": "code",
   "execution_count": null,
   "id": "c53f4d7d-d16b-432f-a0e6-7bd81a9b1b5a",
   "metadata": {
    "tags": []
   },
   "outputs": [],
   "source": [
    "videos['Channel'].unique()"
   ]
  },
  {
   "cell_type": "code",
   "execution_count": null,
   "id": "457b5898-5d32-4fcc-b616-ec8aa6376882",
   "metadata": {
    "tags": []
   },
   "outputs": [],
   "source": [
    "channel_show_df = videos.groupby(['Channel','ShowName'],as_index=False).first()\n",
    "channel_show_df = channel_show_df[['Channel', 'ShowName']]\n",
    "channel_show_df\n",
    "                           "
   ]
  },
  {
   "cell_type": "code",
   "execution_count": null,
   "id": "f3e01b0c-19f4-419c-b8c2-4e29828ba7c7",
   "metadata": {
    "tags": []
   },
   "outputs": [],
   "source": [
    "tags = [\"Ayodhya\", \"section 370\", \"demonetisation\", \"farmer protest\"]"
   ]
  },
  {
   "cell_type": "code",
   "execution_count": null,
   "id": "cf13b5a0-e4a7-4f1e-b93c-fc74bd04d849",
   "metadata": {
    "tags": []
   },
   "outputs": [],
   "source": [
    "def search_video_in_show(channel_name, show_name, tag):\n",
    "    # Search for videos in the specified channel and show with the given tag\n",
    "    request = youtube.search().list(\n",
    "        q=f\"{channel_name} {show_name} {tag}\",\n",
    "        type=\"video\",\n",
    "        part=\"snippet\",\n",
    "        maxResults=1  # Retrieve only one result\n",
    "    )\n",
    "    \n",
    "    # Print the exact request being made\n",
    "    #print(f\"Request URI: {request.uri}\")\n",
    "    \n",
    "    # Execute the request\n",
    "    video_search_response = request.execute()\n",
    "\n",
    "    # Extract video information from the search results\n",
    "    videos = video_search_response.get(\"items\", [])\n",
    "\n",
    "    return videos"
   ]
  },
  {
   "cell_type": "code",
   "execution_count": null,
   "id": "9ce7e994-8d5b-4d5d-8a4e-012448a19859",
   "metadata": {
    "tags": []
   },
   "outputs": [],
   "source": [
    "# Create an empty list to store the data\n",
    "video_data = []\n",
    "\n",
    "# Iterate through each row in the DataFrame\n",
    "for index, row in channel_show_df.iterrows():\n",
    "    channel_name = row[\"Channel\"]\n",
    "    show_name = row[\"ShowName\"]\n",
    "\n",
    "    # Iterate through each tag\n",
    "    for tag in tags:\n",
    "        # Search for a video in the specified channel and show with the given tag\n",
    "        matching_videos = search_video_in_show(channel_name, show_name, tag)\n",
    "\n",
    "        if matching_videos:\n",
    "            video_id = matching_videos[0][\"id\"][\"videoId\"]\n",
    "            video_title = matching_videos[0][\"snippet\"][\"title\"]\n",
    "\n",
    "            # Append data to the list\n",
    "            video_data.append({\n",
    "                \"Channel\": channel_name,\n",
    "                \"ShowName\": show_name,\n",
    "                \"Tag\": tag,\n",
    "                \"Video ID\": video_id,\n",
    "                \"Video Title\": video_title\n",
    "            })\n",
    "\n",
    "# Create a DataFrame from the list of data\n",
    "df = pd.DataFrame(video_data)\n",
    "\n",
    "# Display the DataFrame\n",
    "print(df)"
   ]
  },
  {
   "cell_type": "code",
   "execution_count": null,
   "id": "3e4ac59b-ce94-4d3d-9b8b-05900222f5c1",
   "metadata": {
    "tags": []
   },
   "outputs": [],
   "source": [
    "df.head()"
   ]
  },
  {
   "cell_type": "code",
   "execution_count": null,
   "id": "0820d92e-5fa1-4bd1-b460-e88bf1c12cab",
   "metadata": {},
   "outputs": [],
   "source": []
  }
 ],
 "metadata": {
  "kernelspec": {
   "display_name": "newstoxicity",
   "language": "python",
   "name": "newstoxicity"
  },
  "language_info": {
   "codemirror_mode": {
    "name": "ipython",
    "version": 3
   },
   "file_extension": ".py",
   "mimetype": "text/x-python",
   "name": "python",
   "nbconvert_exporter": "python",
   "pygments_lexer": "ipython3",
   "version": "3.11.4"
  }
 },
 "nbformat": 4,
 "nbformat_minor": 5
}
