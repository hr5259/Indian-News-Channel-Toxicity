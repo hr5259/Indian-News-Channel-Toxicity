{
 "cells": [
  {
   "cell_type": "code",
   "execution_count": null,
   "id": "6dea40eb-293c-47c2-bd6f-e1f1a0fbaac3",
   "metadata": {
    "tags": []
   },
   "outputs": [],
   "source": [
    "#pip install pandas\n",
    "!pip install openpyxl"
   ]
  },
  {
   "cell_type": "code",
   "execution_count": null,
   "id": "4befbb49",
   "metadata": {
    "tags": []
   },
   "outputs": [],
   "source": [
    "#import scrapetube\n",
    "import pandas as pd"
   ]
  },
  {
   "cell_type": "code",
   "execution_count": null,
   "id": "3b3490f8",
   "metadata": {},
   "outputs": [],
   "source": [
    "english_partial_titles = [\"Left Right & Centre\", \"The Big Fight\", \"Newshour Debate\", \"Newstrack\", \"Arnab Debates\", \"The Debate With Arnab\", \"Viewpoint With Bhupendra Chaubey\", \"Urban Debate\"]"
   ]
  },
  {
   "cell_type": "code",
   "execution_count": null,
   "id": "f3229f2d",
   "metadata": {},
   "outputs": [],
   "source": [
    "column_names = ['video_id','partial_title']\n",
    "english_videos_df = pd.DataFrame(columns = column_names)"
   ]
  },
  {
   "cell_type": "code",
   "execution_count": null,
   "id": "63bbedad",
   "metadata": {},
   "outputs": [],
   "source": [
    "for title in english_partial_titles:\n",
    "    videos = scrapetube.get_search(query = title,limit = 300)\n",
    "    # Extract video ids and create a DataFrame\n",
    "    video_ids = [video['videoId'] for video in videos]\n",
    "    partial_df = pd.DataFrame({'video_id': video_ids, 'partial_title': title})\n",
    "\n",
    "    # Append the current DataFrame to the main DataFrame\n",
    "    english_videos_df = pd.concat([english_videos_df, partial_df], ignore_index=True)\n",
    "english_videos_df.head()"
   ]
  },
  {
   "cell_type": "code",
   "execution_count": null,
   "id": "c9aa1fbb",
   "metadata": {},
   "outputs": [],
   "source": [
    "print(english_videos_df)"
   ]
  },
  {
   "cell_type": "code",
   "execution_count": null,
   "id": "00edb1f0-98d7-409e-b3c6-1ac98bac6e90",
   "metadata": {
    "tags": []
   },
   "outputs": [],
   "source": [
    "!pip install google-api-python-client"
   ]
  },
  {
   "cell_type": "code",
   "execution_count": null,
   "id": "e7a875fe",
   "metadata": {
    "tags": []
   },
   "outputs": [],
   "source": [
    "import os\n",
    "import googleapiclient.discovery\n",
    "\n",
    "# Set your YouTube API key as an environment variable\n",
    "os.environ[\"YOUTUBE_API_KEY\"] = \"Your API Key\" #Enter your api key here\n",
    "\n",
    "# List of channel names to check\n",
    "channels_to_check = [\"MIRROR NOW\", \"CNN-News18\", \"India Today\", \"TIMES NOW\", \"Republic World\" ,\"NDTV\"]  # Add your channel names here\n",
    "\n",
    "# Initialize the YouTube Data API client\n",
    "youtube = googleapiclient.discovery.build(\"youtube\", \"v3\", developerKey=os.environ[\"YOUTUBE_API_KEY\"])"
   ]
  },
  {
   "cell_type": "code",
   "execution_count": null,
   "id": "4681d43c",
   "metadata": {},
   "outputs": [],
   "source": [
    "data = []\n",
    "\n",
    "# Iterate through each row in the DataFrame\n",
    "for index, row in english_videos_df.iterrows():\n",
    "    video_id = row[\"video_id\"]\n",
    "    show_name = row[\"partial_title\"]\n",
    "\n",
    "    # Use the YouTube Data API to get video details\n",
    "    video_response = youtube.videos().list(part=\"snippet\", id=video_id).execute()\n",
    "\n",
    "    # Extract the channelId from the video details\n",
    "    channel_id = video_response[\"items\"][0][\"snippet\"][\"channelId\"]\n",
    "\n",
    "    # Use the YouTube Data API to get channel details\n",
    "    channel_response = youtube.channels().list(part=\"snippet\", id=channel_id).execute()\n",
    "    \n",
    "    if \"items\" in channel_response:\n",
    "        # Extract the channel title (name)\n",
    "        channel_name = channel_response[\"items\"][0][\"snippet\"][\"title\"]\n",
    "\n",
    "        # Check if the channel name is in the list of channels to check\n",
    "        if channel_name in channels_to_check:\n",
    "            # Append data to the list\n",
    "            data.append({\"VideoId\": video_id, \"Channel\": channel_name, \"ShowName\": show_name})\n",
    "\n",
    "# Create a new DataFrame from the list of data\n",
    "result_df = pd.DataFrame(data)\n",
    "\n",
    "# Print or save the resulting DataFrame\n",
    "print(result_df)\n"
   ]
  },
  {
   "cell_type": "code",
   "execution_count": null,
   "id": "2853a5f6",
   "metadata": {},
   "outputs": [],
   "source": [
    "result_df.head()"
   ]
  }
 ],
 "metadata": {
  "kernelspec": {
   "display_name": "newstoxicity",
   "language": "python",
   "name": "newstoxicity"
  },
  "language_info": {
   "codemirror_mode": {
    "name": "ipython",
    "version": 3
   },
   "file_extension": ".py",
   "mimetype": "text/x-python",
   "name": "python",
   "nbconvert_exporter": "python",
   "pygments_lexer": "ipython3",
   "version": "3.11.4"
  }
 },
 "nbformat": 4,
 "nbformat_minor": 5
}
